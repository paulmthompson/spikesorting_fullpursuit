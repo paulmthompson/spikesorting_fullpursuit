{
 "cells": [
  {
   "cell_type": "code",
   "execution_count": null,
   "id": "initial_id",
   "metadata": {
    "collapsed": true
   },
   "outputs": [],
   "source": [
    "import numpy as np\n",
    "from generate_data.generate_cluster import generate_test_cluster_easy\n",
    "from spikesorting_fullpursuit.clustering.kmeanspp import initial_cluster_farthest\n",
    "from spikesorting_fullpursuit.clustering.isocut import merge_clusters\n",
    "import matplotlib.pyplot as plt\n",
    "\n",
    "from isosplit6 import isosplit6\n"
   ]
  },
  {
   "cell_type": "code",
   "execution_count": null,
   "outputs": [],
   "source": [
    "scores, ground_truth_labels = generate_test_cluster_easy()"
   ],
   "metadata": {
    "collapsed": false
   },
   "id": "86f4c936939c28e9"
  },
  {
   "cell_type": "code",
   "execution_count": null,
   "outputs": [],
   "source": [
    "def cluster_easy(scores):\n",
    "    p_value_cut_thresh = 0.01\n",
    "\n",
    "    median_cluster_size = 100\n",
    "\n",
    "    neuron_labels = initial_cluster_farthest(scores, median_cluster_size, n_random=0)\n",
    "    neuron_labels = merge_clusters(\n",
    "        scores,\n",
    "        neuron_labels,\n",
    "        split_only=False,\n",
    "        p_value_cut_thresh=p_value_cut_thresh,\n",
    "        match_cluster_size=False,\n",
    "        check_splits=False,\n",
    "    )\n",
    "    \n",
    "    return neuron_labels\n"
   ],
   "metadata": {
    "collapsed": false
   },
   "id": "19f9b665037be1d2"
  },
  {
   "cell_type": "code",
   "execution_count": null,
   "outputs": [],
   "source": [
    "%timeit cluster_easy(scores)"
   ],
   "metadata": {
    "collapsed": false
   },
   "id": "a52a7bbe96ac6fa1"
  },
  {
   "cell_type": "code",
   "execution_count": null,
   "outputs": [],
   "source": [
    "%timeit isosplit6(scores)"
   ],
   "metadata": {
    "collapsed": false
   },
   "id": "5577104943a1df40"
  },
  {
   "cell_type": "code",
   "execution_count": null,
   "outputs": [],
   "source": [
    "neuron_labels = cluster_easy(scores)\n",
    "#neuron_labels = isosplit6(scores)\n",
    "\n",
    "label_ids = np.unique(neuron_labels)\n",
    "\n",
    "for g in label_ids:\n",
    "    ix = np.where(neuron_labels == g)\n",
    "    plt.scatter(scores[ix,0], scores[ix,1])\n",
    "plt.show()"
   ],
   "metadata": {
    "collapsed": false
   },
   "id": "5a814d7ab8fb52d0"
  },
  {
   "cell_type": "code",
   "execution_count": null,
   "outputs": [],
   "source": [],
   "metadata": {
    "collapsed": false
   },
   "id": "cca057457e93561e"
  }
 ],
 "metadata": {
  "kernelspec": {
   "display_name": "Python 3",
   "language": "python",
   "name": "python3"
  },
  "language_info": {
   "codemirror_mode": {
    "name": "ipython",
    "version": 2
   },
   "file_extension": ".py",
   "mimetype": "text/x-python",
   "name": "python",
   "nbconvert_exporter": "python",
   "pygments_lexer": "ipython2",
   "version": "2.7.6"
  }
 },
 "nbformat": 4,
 "nbformat_minor": 5
}
