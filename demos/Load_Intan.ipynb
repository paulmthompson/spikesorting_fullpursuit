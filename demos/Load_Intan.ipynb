{
 "cells": [
  {
   "cell_type": "code",
   "execution_count": null,
   "id": "340a94a5",
   "metadata": {},
   "outputs": [],
   "source": [
    "# Import other useful Python packages\n",
    "import numpy as np\n",
    "import matplotlib.pyplot as plt\n",
    "import spikesorting_fullpursuit as fbp\n",
    "from spikesorting_fullpursuit.parallel.spikesorting_parallel import spike_sort_parallel\n",
    "import pickle"
   ]
  },
  {
   "cell_type": "code",
   "execution_count": null,
   "id": "1e7ae6c3",
   "metadata": {},
   "outputs": [],
   "source": [
    "channel_num = 32\n",
    "\n",
    "data_dir = 'C:/Users/wanglab/Data/PrV/061523_1/'\n",
    "\n",
    "filename = data_dir + 'amplifier.dat'\n",
    "\n",
    "save_fname = data_dir + 'sorted_data.pickle'\n",
    "\n",
    "neurons_fname = data_dir + 'sorted_neurons.pickle'\n",
    "\n",
    "log_dir = data_dir + 'logs'\n",
    "\n",
    "# Setup the sorting parameters dictionary.\n",
    "spike_sort_args = {\n",
    "        'sigma': 4.0, # Threshold based on noise level\n",
    "        'clip_width': [-10e-4, 10e-4], # Width of clip in seconds\n",
    "        'p_value_cut_thresh': 0.01,\n",
    "        'segment_duration': np.inf, #None Uses entire recording\n",
    "        'segment_overlap': 150,\n",
    "        'do_branch_PCA': True,\n",
    "        'do_branch_PCA_by_chan': True,\n",
    "        'do_overlap_recheck': True,\n",
    "        'filter_band': (300, 5000), #Intan filter bandwidth\n",
    "        'do_ZCA_transform': True,\n",
    "        'check_components': 20,\n",
    "        'max_components': 5,\n",
    "        'min_firing_rate': 0.1,\n",
    "        'use_rand_init': True,\n",
    "        'add_peak_valley': False,\n",
    "        'max_gpu_memory': .1 * (1024 * 1024 * 1024),\n",
    "        'save_1_cpu': True,\n",
    "        'sort_peak_clips_only': True,\n",
    "        'n_cov_samples': 100000, #Used to produce noise covariance matrix. Seems to plateau at 100,000\n",
    "        'sigma_bp_noise': 2.326,\n",
    "  #      'sigma_bp_CI': 12.0,\n",
    "        'absolute_refractory_period': 10e-4,\n",
    "        'get_adjusted_clips': False,\n",
    "        'max_binary_pursuit_clip_width_factor': 1.0,\n",
    "        'verbose': True,\n",
    "        'test_flag': False,\n",
    "        'log_dir': log_dir,\n",
    "        }"
   ]
  },
  {
   "cell_type": "code",
   "execution_count": null,
   "id": "3cfcec98",
   "metadata": {},
   "outputs": [],
   "source": [
    "voltage = np.fromfile(filename, dtype=np.int16)\n",
    "voltage = voltage.reshape(int(voltage.shape[0] / channel_num),channel_num)\n",
    "voltage = voltage.transpose();\n",
    "voltage = np.float32(voltage)"
   ]
  },
  {
   "cell_type": "code",
   "execution_count": null,
   "id": "a8d769b1",
   "metadata": {},
   "outputs": [],
   "source": [
    "\"\"\" xy_layout is 2D numpy array where each row represents its\n",
    "corresonding channel number and each column gives the x, y coordinates\n",
    "of that channel in micrometers. \"\"\"\n",
    "\n",
    "xy_layout = np.array([\n",
    "    [21.65, 25], #0\n",
    "    [21.65, 725], #1\n",
    "    [21.65, 125], #2\n",
    "    [21.65, 325],\n",
    "    [21.65, 375], #4\n",
    "    [21.65, 475], #5\n",
    "    [21.65, 675], #6\n",
    "    [21.65, 775], #7\n",
    "    [21.65, 225], #8\n",
    "    [21.65, 275], #9\n",
    "    [21.65, 575], #10\n",
    "    [21.65, 525], #11\n",
    "    [21.65, 425], #12\n",
    "    [21.65, 175], #13\n",
    "    [21.65, 625], #14\n",
    "    [21.65, 75], #15\n",
    "    [-21.65, 0], #16\n",
    "    [-21.65, 450], #17\n",
    "    [-21.65, 100], #18\n",
    "    [-21.65, 250], #19\n",
    "    [-21.65, 600], #20\n",
    "    [-21.65, 400], #21\n",
    "    [-21.65, 550], #22\n",
    "    [-21.65, 750], #23\n",
    "    [-21.65, 200], #24\n",
    "    [-21.65, 650], #25\n",
    "    [-21.65, 350], #26\n",
    "    [-21.65, 500], #27\n",
    "    [-21.65, 700], #28\n",
    "    [-21.65, 150], #29\n",
    "    [-21.65, 300], #30\n",
    "    [-21.65, 50] #31   \n",
    "    ])\n",
    "\n",
    "sampling_rate = 30000\n",
    "neighbor_distance = 100 #Distance in microns to add channels to look for templates\n",
    "\n",
    "Probe = fbp.electrode.DistanceBasedProbe(sampling_rate,channel_num,xy_layout,100,voltage_array=voltage)"
   ]
  },
  {
   "cell_type": "code",
   "execution_count": null,
   "id": "56f29f51",
   "metadata": {},
   "outputs": [],
   "source": [
    "#Probe.bandpass_filter_parallel(spike_sort_args['filter_band'][0], spike_sort_args['filter_band'][1])"
   ]
  },
  {
   "cell_type": "code",
   "execution_count": null,
   "id": "67fe0d97",
   "metadata": {},
   "outputs": [],
   "source": [
    "print(\"Start sorting\")\n",
    "sort_data, work_items, sorter_info = spike_sort_parallel(Probe, **spike_sort_args)"
   ]
  },
  {
   "cell_type": "code",
   "execution_count": null,
   "id": "725136f2",
   "metadata": {},
   "outputs": [],
   "source": [
    "print(\"Saving neurons file as\", save_fname)\n",
    "with open(save_fname, 'wb') as fp:\n",
    "    pickle.dump((sort_data, work_items, sorter_info), fp, protocol=-1)"
   ]
  },
  {
   "cell_type": "markdown",
   "id": "1a9c1428",
   "metadata": {},
   "source": [
    "### Post Processing"
   ]
  },
  {
   "cell_type": "code",
   "execution_count": null,
   "id": "f25ed3c2",
   "metadata": {},
   "outputs": [],
   "source": [
    "from spikesorting_fullpursuit.postprocessing import WorkItemSummary"
   ]
  },
  {
   "cell_type": "code",
   "execution_count": null,
   "id": "cb78e0d4",
   "metadata": {},
   "outputs": [],
   "source": [
    "# First step in automated post-processing\n",
    "# Set a few variables that can allow easy detection of units that are poor\n",
    "absolute_refractory_period = 10e-4 # Refractory period (in ms) will be used to determine potential violations in sorting accuracy\n",
    "# Max allowable ratio between refractory period violations and maximal bin of ACG. Units that violate will be deleted. Setting to >= 1. allows all units\n",
    "max_mua_ratio = 1.\n",
    "min_snr = 0 # Minimal SNR a unit must have to be included in post-processing\n",
    "min_overlapping_spikes = .75 # Percentage of spikes required with nearly identical spike times in adjacent segments for them to combine in stitching\n",
    "\n",
    "# Create the work_summary postprocessing object\n",
    "work_summary = WorkItemSummary(sort_data, work_items,\n",
    "                sorter_info, absolute_refractory_period=absolute_refractory_period,\n",
    "                max_mua_ratio=max_mua_ratio, min_snr=min_snr,\n",
    "                min_overlapping_spikes=min_overlapping_spikes, verbose=False)\n",
    "\n",
    "# No segments in the demo (segment_duration > duration of synthetic data) but done as example\n",
    "work_summary.stitch_segments()\n",
    "\n",
    "# Summarize the sorted output data into dictionaries by time segment.\n",
    "work_summary.summarize_neurons_by_seg()\n",
    "\n",
    "# Finally summarize neurons across channels (combining and removing duplicate\n",
    "# neurons across space) to get a list of sorted \"neurons\"\n",
    "neurons = work_summary.summarize_neurons_across_channels(\n",
    "                    overlap_ratio_threshold=np.inf, \n",
    "                    min_segs_per_unit=1,\n",
    "                    remove_clips=False)\n",
    "\n",
    "print(\"Saving neurons file as\", neurons_fname)\n",
    "with open(neurons_fname, 'wb') as fp:\n",
    "    pickle.dump(neurons, fp, protocol=-1)"
   ]
  },
  {
   "cell_type": "code",
   "execution_count": null,
   "id": "7622e80f",
   "metadata": {},
   "outputs": [],
   "source": [
    "print(\"Found\", len(neurons), \"total units with properties:\")\n",
    "fmtL = \"Unit: {:.0f} on chans {}; n spikes = {:.0f}; FR = {:.0f}; Dur = {:.0f}; SNR = {:.2f}; MUA = {:.2f}; TolInds = {:.0f}\"\n",
    "for ind, n in enumerate(neurons):\n",
    "    print_vals = [ind, n['channel'], n['spike_indices'].size, n['firing_rate'], n['duration_s'], n['snr']['average'], n['fraction_mua'], n['duplicate_tol_inds']]\n",
    "    print(fmtL.format(*print_vals))\n"
   ]
  },
  {
   "cell_type": "code",
   "execution_count": null,
   "id": "843d1199",
   "metadata": {},
   "outputs": [],
   "source": []
  },
  {
   "cell_type": "markdown",
   "id": "3ba4e754",
   "metadata": {},
   "source": [
    "### Plot Data"
   ]
  },
  {
   "cell_type": "code",
   "execution_count": null,
   "id": "770e4628",
   "metadata": {},
   "outputs": [],
   "source": [
    "start_win = round(101.5 * 30000)\n",
    "end_win = round(101.5 * 30000) + 2000\n",
    "clip_win = 30\n",
    "\n",
    "total_neurons = 32;\n",
    "\n",
    "for n in range(0,total_neurons):\n",
    "    plt.plot(voltage[n,start_win:end_win] + n * 3000,linewidth = 0.5, color=\"blue\")\n",
    "\n",
    "for n in range(0,len(neurons)):\n",
    "    \n",
    "    color = tuple(np.random.random(size=3))\n",
    "    \n",
    "    for spike in neurons[n]['spike_indices']:\n",
    "        if ((spike > start_win) & (spike < end_win)):\n",
    "            \n",
    "            channels = Probe.get_neighbors(neurons[n]['channel'][0])\n",
    "            \n",
    "            for c in channels:\n",
    "                voltage_range = range((spike-clip_win),(spike+clip_win))\n",
    "                plot_range = range((spike-clip_win) - start_win,(spike+clip_win) - start_win)\n",
    "                plt.plot(plot_range,voltage[c,voltage_range] + c * 3000,color=color, linewidth = 1)"
   ]
  },
  {
   "cell_type": "code",
   "execution_count": null,
   "id": "ae2902ed",
   "metadata": {},
   "outputs": [],
   "source": [
    "start_win = round(101.55 * 30000)\n",
    "end_win = round(101.55 * 30000) + 1000\n",
    "clip_win = 30\n",
    "\n",
    "noi = 25;\n",
    "\n",
    "plt.plot(voltage[noi,start_win:end_win],linewidth = 0.5, color=\"blue\")\n",
    "\n",
    "#for n in range(0,len(neurons)):\n",
    "for n in range(32,34):\n",
    "    \n",
    "    channels = Probe.get_neighbors(neurons[n]['channel'][0])\n",
    "    \n",
    "    if any(x == noi for x in channels):\n",
    "    \n",
    "        color = tuple(np.random.random(size=3))\n",
    "    \n",
    "        for spike in neurons[n]['spike_indices']:\n",
    "            if ((spike > start_win) & (spike < end_win)):\n",
    "                voltage_range = range((spike-clip_win),(spike+clip_win))\n",
    "                plot_range = range((spike-clip_win) - start_win,(spike+clip_win) - start_win)\n",
    "                plt.plot(plot_range,voltage[noi,voltage_range] + n * 1000,color=color, linewidth = 1)"
   ]
  },
  {
   "cell_type": "code",
   "execution_count": null,
   "id": "f59b4c92",
   "metadata": {},
   "outputs": [],
   "source": [
    "# ACF from one unit\n",
    "plt.hist(np.diff(neurons[32]['spike_indices']),bins=np.arange(0,3000,30));"
   ]
  },
  {
   "cell_type": "code",
   "execution_count": null,
   "id": "cf64d13c",
   "metadata": {},
   "outputs": [],
   "source": [
    "# ACF from another unit\n",
    "plt.hist(np.diff(neurons[33]['spike_indices']),bins=np.arange(0,3000,30))"
   ]
  },
  {
   "cell_type": "markdown",
   "id": "bf9b95a1",
   "metadata": {},
   "source": [
    "### Load Data"
   ]
  },
  {
   "cell_type": "code",
   "execution_count": null,
   "id": "b1b1a4b7",
   "metadata": {},
   "outputs": [],
   "source": [
    "with open(save_fname, 'rb') as fp:\n",
    "    sorted_data = pickle.load(fp)\n",
    "\n",
    "sort_data, work_items, sorter_info = sorted_data[0], sorted_data[1], sorted_data[2]"
   ]
  },
  {
   "cell_type": "code",
   "execution_count": null,
   "id": "a88efa58",
   "metadata": {},
   "outputs": [],
   "source": []
  }
 ],
 "metadata": {
  "kernelspec": {
   "display_name": "Python 3 (ipykernel)",
   "language": "python",
   "name": "python3"
  },
  "language_info": {
   "codemirror_mode": {
    "name": "ipython",
    "version": 3
   },
   "file_extension": ".py",
   "mimetype": "text/x-python",
   "name": "python",
   "nbconvert_exporter": "python",
   "pygments_lexer": "ipython3",
   "version": "3.11.3"
  }
 },
 "nbformat": 4,
 "nbformat_minor": 5
}
