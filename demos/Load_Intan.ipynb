{
 "cells": [
  {
   "cell_type": "code",
   "execution_count": null,
   "id": "0ffa8086",
   "metadata": {},
   "outputs": [],
   "source": [
    "import numpy as np\n",
    "import matplotlib.pyplot as plt\n",
    "import pickle\n",
    "\n",
    "from spikeinterface.preprocessing import common_reference, bandpass_filter, phase_shift\n",
    "from spikeinterface.extractors import read_binary\n",
    "\n",
    "import spikesorting_fullpursuit as fbp\n",
    "from spikesorting_fullpursuit.parallel.spikesorting_parallel import spike_sort_parallel\n",
    "from spikesorting_fullpursuit.postprocessing import WorkItemSummary\n",
    "\n",
    "import probes"
   ]
  },
  {
   "cell_type": "code",
   "execution_count": null,
   "id": "0e60bdd5",
   "metadata": {},
   "outputs": [],
   "source": [
    "channel_num = 32\n",
    "sampling_rate = 30000\n",
    "neighbor_distance = 100 #Distance in microns to add channels to look for templates\n",
    "\n",
    "#data_dir = 'C:/Users/wanglab/Data/Licking/dirt/sorting_test_zca/'\n",
    "data_dir = 'C:/Users/wanglab/Data/PrV/112423_2/'\n",
    "filename = data_dir + 'amplifier.dat'\n",
    "\n",
    "save_fname = data_dir + 'sorted_data.pickle'\n",
    "\n",
    "neurons_fname = data_dir + 'sorted_neurons.pickle'\n",
    "\n",
    "log_dir = data_dir + 'logs'\n",
    "\n",
    "broken_channels = [16]\n",
    "\n",
    "# Setup the sorting parameters dictionary.\n",
    "spike_sort_args = {\n",
    "        'sigma': 4.0, # Threshold based on noise level\n",
    "        'clip_width': [-15e-4, 15e-4], # Width of clip in seconds\n",
    "        'p_value_cut_thresh': 0.01,\n",
    "        'segment_duration': np.Inf, #Seconds of duration; None Uses entire recording\n",
    "        'segment_overlap': 150, #Seconds of overlap\n",
    "        'do_branch_PCA': True,\n",
    "        'do_branch_PCA_by_chan': True,\n",
    "        'do_overlap_recheck': True,\n",
    "        'filter_band': (300, 5000), #Intan filter bandwidth\n",
    "        'do_ZCA_transform': True,\n",
    "        'check_components': 20,\n",
    "        'max_components': 5,\n",
    "        'min_firing_rate': 0.1,\n",
    "        'use_rand_init': True,\n",
    "        'add_peak_valley': False,\n",
    "        'max_gpu_memory': .1 * (1024 * 1024 * 1024),\n",
    "        'save_1_cpu': True,\n",
    "        'sort_peak_clips_only': True,\n",
    "        'n_cov_samples': 100000, #Used to produce noise covariance matrix. Seems to plateau at 100,000\n",
    "        'sigma_bp_noise': 2.326, # Number of noise standard deviations an expected template match must exceed the decision boundary by. Otherwise it is a candidate for deletion or increased threshold. Higher values = lower false positives and higher false negatives\n",
    "  #      'sigma_bp_CI': 12.0,\n",
    "        #'bp_chan_snr': 2.0, # SNR required for a template on a given channel to be used for binary pursuit. Channels lower than this are set to zero template signal.\n",
    "        'absolute_refractory_period': 10e-4,\n",
    "        'get_adjusted_clips': False,\n",
    "        'max_binary_pursuit_clip_width_factor': 1.0,\n",
    "        'wiener_filter': True,\n",
    "        'verbose': True,\n",
    "        'test_flag': False,\n",
    "        'log_dir': log_dir,\n",
    "        }\n",
    "\n",
    "#Probe Type\n",
    "probe = probes.create_poly3()\n",
    "xy_layout = probes.create_poly3_layout()"
   ]
  },
  {
   "cell_type": "code",
   "execution_count": null,
   "metadata": {},
   "outputs": [],
   "source": [
    "\n",
    "\n",
    "rec = read_binary(filename,sampling_frequency=30000,\n",
    "                  dtype='int16',\n",
    "                  num_channels=32,\n",
    "                  time_axis=0,\n",
    "                  gain_to_uV=0.195,\n",
    "                  offset_to_uV=0,\n",
    "                  channel_ids=range(32),\n",
    "                  )\n",
    "\n",
    "rec = phase_shift(recording=rec,inter_sample_shift=[i/35 for i in range(0,32)])\n",
    "\n",
    "rec = rec.set_probe(probe)\n",
    "rec = common_reference(rec,operator='median')\n",
    "rec = bandpass_filter(recording=rec,freq_min=700,freq_max=8000)\n",
    "\n",
    "voltage = rec.get_traces(return_scaled=True)\n",
    "voltage = voltage.transpose()\n",
    "\n",
    "sorted_height = np.flip(xy_layout[:,1].argsort())\n",
    "\n",
    "xy_layout_sorted = xy_layout[sorted_height,:]\n",
    "voltage_sorted = voltage[sorted_height,:]\n",
    "\n",
    "Probe = fbp.electrode.DistanceBasedProbe(sampling_rate,channel_num,xy_layout_sorted,100,voltage_array=voltage_sorted)"
   ]
  },
  {
   "cell_type": "code",
   "execution_count": null,
   "id": "f1b9775c",
   "metadata": {},
   "outputs": [],
   "source": [
    "print(\"Start sorting\")\n",
    "sort_data, work_items, sorter_info = spike_sort_parallel(Probe, **spike_sort_args)"
   ]
  },
  {
   "cell_type": "code",
   "execution_count": null,
   "id": "d8d9728d",
   "metadata": {},
   "outputs": [],
   "source": [
    "print(\"Saving neurons file as\", save_fname)\n",
    "with open(save_fname, 'wb') as fp:\n",
    "    pickle.dump((sort_data, work_items, sorter_info), fp, protocol=-1)"
   ]
  },
  {
   "cell_type": "markdown",
   "id": "bfc0e339",
   "metadata": {},
   "source": [
    "### Post Processing"
   ]
  },
  {
   "cell_type": "code",
   "execution_count": null,
   "id": "80c0440e",
   "metadata": {},
   "outputs": [],
   "source": [
    "# First step in automated post-processing\n",
    "# Set a few variables that can allow easy detection of units that are poor\n",
    "absolute_refractory_period = 10e-4 # Refractory period (in ms) will be used to determine potential violations in sorting accuracy\n",
    "# Max allowable ratio between refractory period violations and maximal bin of ACG. Units that violate will be deleted. Setting to >= 1. allows all units\n",
    "max_mua_ratio = 1.\n",
    "min_snr = 0 # Minimal SNR a unit must have to be included in post-processing\n",
    "min_overlapping_spikes = .75 # Percentage of spikes required with nearly identical spike times in adjacent segments for them to combine in stitching\n",
    "\n",
    "# Create the work_summary postprocessing object\n",
    "work_summary = WorkItemSummary(sort_data, \n",
    "                            work_items,\n",
    "                            sorter_info, \n",
    "                            absolute_refractory_period=absolute_refractory_period,\n",
    "                            max_mua_ratio=max_mua_ratio, \n",
    "                            min_snr=min_snr,\n",
    "                            min_overlapping_spikes=min_overlapping_spikes, \n",
    "                            verbose=False)\n",
    "\n",
    "# No segments in the demo (segment_duration > duration of synthetic data) but done as example\n",
    "work_summary.stitch_segments()\n",
    "\n",
    "# Summarize the sorted output data into dictionaries by time segment.\n",
    "work_summary.summarize_neurons_by_seg()\n",
    "\n",
    "# Finally summarize neurons across channels (combining and removing duplicate\n",
    "# neurons across space) to get a list of sorted \"neurons\"\n",
    "neurons = work_summary.summarize_neurons_across_channels(\n",
    "                    overlap_ratio_threshold=np.inf, \n",
    "                    min_segs_per_unit=1,\n",
    "                    remove_clips=False)\n",
    "\n",
    "print(\"Saving neurons file as\", neurons_fname)\n",
    "with open(neurons_fname, 'wb') as fp:\n",
    "    pickle.dump(neurons, fp, protocol=-1)\n",
    "\n"
   ]
  },
  {
   "cell_type": "code",
   "execution_count": null,
   "id": "1405a849",
   "metadata": {},
   "outputs": [],
   "source": [
    "print(\"Found\", len(neurons), \"total units with properties:\")\n",
    "fmtL = \"Unit: {:.0f} on chans {}; n spikes = {:.0f}; FR = {:.0f}; Dur = {:.0f}; SNR = {:.2f}; MUA = {:.2f}; TolInds = {:.0f}\"\n",
    "for ind, n in enumerate(neurons):\n",
    "    print_vals = [ind, n['channel'], n['spike_indices'].size, n['firing_rate'], n['duration_s'], n['snr']['average'], n['fraction_mua'], n['duplicate_tol_inds']]\n",
    "    print(fmtL.format(*print_vals))\n"
   ]
  },
  {
   "cell_type": "code",
   "execution_count": null,
   "id": "d229b217",
   "metadata": {},
   "outputs": [],
   "source": [
    "from spikesorting_fullpursuit.utils import convert_to_viz\n",
    "convert_to_viz.f_neurons_to_viz(neurons_fname,neuroviz_only=True)"
   ]
  },
  {
   "cell_type": "markdown",
   "id": "94a4325c",
   "metadata": {},
   "source": [
    "### Save voltage arranged by channel as dat file"
   ]
  },
  {
   "cell_type": "code",
   "execution_count": null,
   "id": "e2ca393b",
   "metadata": {},
   "outputs": [],
   "source": [
    "voltage_rearrange_filename = data_dir + 'voltage_sorted.dat'\n",
    "voltage_sorted.astype('int16').tofile(voltage_rearrange_filename)"
   ]
  },
  {
   "cell_type": "code",
   "execution_count": null,
   "id": "2fe501b8",
   "metadata": {},
   "outputs": [],
   "source": []
  },
  {
   "cell_type": "markdown",
   "id": "9b843b56",
   "metadata": {},
   "source": [
    "### Load Data"
   ]
  },
  {
   "cell_type": "code",
   "execution_count": null,
   "id": "656a4b68",
   "metadata": {},
   "outputs": [],
   "source": [
    "with open(save_fname, 'rb') as fp:\n",
    "    sorted_data = pickle.load(fp)\n",
    "\n",
    "sort_data, work_items, sorter_info = sorted_data[0], sorted_data[1], sorted_data[2]"
   ]
  }
 ],
 "metadata": {
  "kernelspec": {
   "display_name": "Python 3 (ipykernel)",
   "language": "python",
   "name": "python3"
  },
  "language_info": {
   "codemirror_mode": {
    "name": "ipython",
    "version": 3
   },
   "file_extension": ".py",
   "mimetype": "text/x-python",
   "name": "python",
   "nbconvert_exporter": "python",
   "pygments_lexer": "ipython3",
   "version": "3.11.3"
  }
 },
 "nbformat": 4,
 "nbformat_minor": 5
}
