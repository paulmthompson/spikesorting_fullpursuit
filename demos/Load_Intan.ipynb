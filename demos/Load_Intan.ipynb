{
 "cells": [
  {
   "cell_type": "code",
   "execution_count": 1,
   "id": "0ffa8086",
   "metadata": {},
   "outputs": [],
   "source": [
    "import numpy as np\n",
    "import matplotlib.pyplot as plt\n",
    "import pickle\n",
    "import scipy\n",
    "\n",
    "%matplotlib qt5\n",
    "\n",
    "import torch\n",
    "import torchaudio\n",
    "import torchaudio.functional as F\n",
    "\n",
    "from spikeinterface.preprocessing import common_reference, bandpass_filter, phase_shift\n",
    "from spikeinterface.extractors import read_binary\n",
    "\n",
    "import spikesorting_fullpursuit as fbp\n",
    "from spikesorting_fullpursuit.parallel.spikesorting_parallel import spike_sort_parallel\n",
    "from spikesorting_fullpursuit.postprocessing import WorkItemSummary\n",
    "\n",
    "import probes\n",
    "import upsample\n",
    "import filter"
   ]
  },
  {
   "cell_type": "code",
   "execution_count": 2,
   "id": "0e60bdd5",
   "metadata": {},
   "outputs": [],
   "source": [
    "channel_num = 32\n",
    "sampling_rate = 30000\n",
    "neighbor_distance = 100 #Distance in microns to add channels to look for templates\n",
    "\n",
    "#data_dir = 'C:/Users/wanglab/Data/Licking/dirt/sorting_test_zca/'\n",
    "data_dir = 'C:/Users/wanglab/Data/PrV/112923_2/'\n",
    "filename = data_dir + 'amplifier.dat'\n",
    "\n",
    "save_fname = data_dir + 'sorted_data.pickle'\n",
    "\n",
    "neurons_fname = data_dir + 'sorted_neurons.pickle'\n",
    "\n",
    "log_dir = data_dir + 'logs'\n",
    "\n",
    "broken_channels = [16]\n",
    "\n",
    "# Setup the sorting parameters dictionary.\n",
    "spike_sort_args = {\n",
    "        'sigma': 4.0, # Threshold based on noise level\n",
    "        'clip_width': [-15e-4, 15e-4], # Width of clip in seconds\n",
    "        'p_value_cut_thresh': 0.01,\n",
    "        'segment_duration': np.Inf, #Seconds of duration; None Uses entire recording\n",
    "        'segment_overlap': 150, #Seconds of overlap\n",
    "        'do_branch_PCA': True,\n",
    "        'do_branch_PCA_by_chan': True,\n",
    "        'do_overlap_recheck': True,\n",
    "        'filter_band': (300, 5000), #Intan filter bandwidth\n",
    "        'do_ZCA_transform': True,\n",
    "        'check_components': 20,\n",
    "        'max_components': 5,\n",
    "        'min_firing_rate': 0.1,\n",
    "        'use_rand_init': True,\n",
    "        'add_peak_valley': False,\n",
    "        'max_gpu_memory': .1 * (1024 * 1024 * 1024),\n",
    "        'save_1_cpu': True,\n",
    "        'sort_peak_clips_only': True,\n",
    "        'n_cov_samples': 100000, #Used to produce noise covariance matrix. Seems to plateau at 100,000\n",
    "        'sigma_bp_noise': 2.326, # Number of noise standard deviations an expected template match must exceed the decision boundary by. Otherwise it is a candidate for deletion or increased threshold. Higher values = lower false positives and higher false negatives\n",
    "  #      'sigma_bp_CI': 12.0,\n",
    "        #'bp_chan_snr': 2.0, # SNR required for a template on a given channel to be used for binary pursuit. Channels lower than this are set to zero template signal.\n",
    "        'absolute_refractory_period': 10e-4,\n",
    "        'get_adjusted_clips': False,\n",
    "        'max_binary_pursuit_clip_width_factor': 1.0,\n",
    "        'wiener_filter': True,\n",
    "        'verbose': True,\n",
    "        'test_flag': False,\n",
    "        'log_dir': log_dir,\n",
    "        }\n",
    "\n",
    "#Probe Type\n",
    "probe = probes.create_poly3()\n",
    "xy_layout = probes.create_poly3_layout()"
   ]
  },
  {
   "cell_type": "code",
   "execution_count": 3,
   "metadata": {},
   "outputs": [],
   "source": [
    "rec = read_binary(filename,sampling_frequency=30000,\n",
    "                  dtype='int16',\n",
    "                  num_channels=32,\n",
    "                  time_axis=0,\n",
    "                  gain_to_uV=0.195,\n",
    "                  offset_to_uV=0,\n",
    "                  channel_ids=range(32),\n",
    "                  )\n",
    "\n",
    "#rec1 = phase_shift(recording=rec,inter_sample_shift=[i/35 for i in range(0,32)])\n",
    "\n",
    "#rec1 = rec1.set_probe(probe)\n",
    "#rec1 = common_reference(rec1,operator='median')\n",
    "#rec1 = bandpass_filter(recording=rec1,freq_min=700,freq_max=8000)\n",
    "\n",
    "#voltage = rec1.get_traces(return_scaled=True)\n",
    "#voltage = voltage.transpose()\n",
    "\n",
    "voltage_raw = rec.get_traces(return_scaled=True)\n",
    "voltage_raw = voltage_raw.transpose()\n",
    "\n",
    "sorted_height = np.flip(xy_layout[:,1].argsort())\n",
    "\n",
    "#xy_layout_sorted = xy_layout[sorted_height,:]\n",
    "#voltage_sorted = voltage[sorted_height,:]\n",
    "\n",
    "#Probe = fbp.electrode.DistanceBasedProbe(sampling_rate,channel_num,xy_layout_sorted,100,voltage_array=voltage_sorted)"
   ]
  },
  {
   "cell_type": "code",
   "execution_count": 4,
   "metadata": {},
   "outputs": [
    {
     "name": "stdout",
     "output_type": "stream",
     "text": [
      "Using device: cuda\n",
      "Total windows: 54\n",
      "Processed window 0 of 54\n",
      "Processed window 1 of 54\n",
      "Processed window 2 of 54\n",
      "Processed window 3 of 54\n",
      "Processed window 4 of 54\n",
      "Processed window 5 of 54\n",
      "Processed window 6 of 54\n",
      "Processed window 7 of 54\n",
      "Processed window 8 of 54\n",
      "Processed window 9 of 54\n",
      "Processed window 10 of 54\n",
      "Processed window 11 of 54\n",
      "Processed window 12 of 54\n",
      "Processed window 13 of 54\n",
      "Processed window 14 of 54\n",
      "Processed window 15 of 54\n",
      "Processed window 16 of 54\n",
      "Processed window 17 of 54\n",
      "Processed window 18 of 54\n",
      "Processed window 19 of 54\n",
      "Processed window 20 of 54\n",
      "Processed window 21 of 54\n",
      "Processed window 22 of 54\n",
      "Processed window 23 of 54\n",
      "Processed window 24 of 54\n",
      "Processed window 25 of 54\n",
      "Processed window 26 of 54\n",
      "Processed window 27 of 54\n",
      "Processed window 28 of 54\n",
      "Processed window 29 of 54\n",
      "Processed window 30 of 54\n",
      "Processed window 31 of 54\n",
      "Processed window 32 of 54\n",
      "Processed window 33 of 54\n",
      "Processed window 34 of 54\n",
      "Processed window 35 of 54\n",
      "Processed window 36 of 54\n",
      "Processed window 37 of 54\n",
      "Processed window 38 of 54\n",
      "Processed window 39 of 54\n",
      "Processed window 40 of 54\n",
      "Processed window 41 of 54\n",
      "Processed window 42 of 54\n",
      "Processed window 43 of 54\n",
      "Processed window 44 of 54\n",
      "Processed window 45 of 54\n",
      "Processed window 46 of 54\n",
      "Processed window 47 of 54\n",
      "Processed window 48 of 54\n",
      "Processed window 49 of 54\n",
      "Processed window 50 of 54\n",
      "Processed window 51 of 54\n",
      "Processed window 52 of 54\n",
      "Processed window 53 of 54\n",
      "Filtered channel 0\n",
      "Filtered channel 1\n",
      "Filtered channel 2\n",
      "Filtered channel 3\n",
      "Filtered channel 4\n",
      "Filtered channel 5\n",
      "Filtered channel 6\n",
      "Filtered channel 7\n",
      "Filtered channel 8\n",
      "Filtered channel 9\n",
      "Filtered channel 10\n",
      "Filtered channel 11\n",
      "Filtered channel 12\n",
      "Filtered channel 13\n",
      "Filtered channel 14\n",
      "Filtered channel 15\n",
      "Filtered channel 16\n",
      "Filtered channel 17\n",
      "Filtered channel 18\n",
      "Filtered channel 19\n",
      "Filtered channel 20\n",
      "Filtered channel 21\n",
      "Filtered channel 22\n",
      "Filtered channel 23\n",
      "Filtered channel 24\n",
      "Filtered channel 25\n",
      "Filtered channel 26\n",
      "Filtered channel 27\n",
      "Filtered channel 28\n",
      "Filtered channel 29\n",
      "Filtered channel 30\n",
      "Filtered channel 31\n"
     ]
    }
   ],
   "source": [
    "upsample_factor = 4\n",
    "\n",
    "up_voltage = upsample.upsample_median_subtraction(voltage_raw, \n",
    "                                    sampling_rate, \n",
    "                                    upsample_factor,\n",
    "                                    dead_channels=[2],\n",
    "                                    window_size=300000)\n",
    "for i in range(0,channel_num):\n",
    "    up_voltage[i,:] = filter.butter_bandpass_filter(up_voltage[i,:],\n",
    "                                                    700,\n",
    "                                                    8000,\n",
    "                                                    upsample_factor*30000,\n",
    "                                                    order=4)\n",
    "    print(\"Filtered channel \" + str(i))\n",
    "\n",
    "import gc\n",
    "torch.cuda.empty_cache()\n",
    "gc.collect()"
   ]
  },
  {
   "cell_type": "code",
   "execution_count": 39,
   "metadata": {},
   "outputs": [],
   "source": [
    "sorted_height = np.flip(xy_layout[:,1].argsort())\n",
    "\n",
    "xy_layout_sorted = xy_layout[sorted_height,:]\n",
    "voltage_sorted = up_voltage[sorted_height,:]\n",
    "\n",
    "voltage_sorted = voltage_sorted.astype(np.float32)\n",
    "\n",
    "Probe = fbp.electrode.DistanceBasedProbe(sampling_rate*upsample_factor,channel_num,xy_layout_sorted,100,voltage_array=voltage_sorted)"
   ]
  },
  {
   "cell_type": "code",
   "execution_count": 28,
   "metadata": {},
   "outputs": [
    {
     "data": {
      "text/plain": [
       "[<matplotlib.lines.Line2D at 0x16e208bccd0>]"
      ]
     },
     "execution_count": 28,
     "metadata": {},
     "output_type": "execute_result"
    }
   ],
   "source": [
    "channel = sorted_height[30]\n",
    "#channel = 2\n",
    "\n",
    "#other_channels = np.arange(0,32)\n",
    "#other_channels = np.delete(other_channels,sorted_height[21])\n",
    "#other_channels = np.delete(other_channels,[2])\n",
    "\n",
    "t_start = 600000\n",
    "t_end = 1200000\n",
    "\n",
    "fig, ax = plt.subplots(1,1)\n",
    "\n",
    "n_samples = voltage.shape[1]\n",
    "\n",
    "t = np.linspace(0,n_samples,n_samples) / sampling_rate\n",
    "u = np.linspace(0,n_samples,upsample_factor*n_samples) / sampling_rate\n",
    "\n",
    "plt.plot(u[(t_start*upsample_factor):(t_end*upsample_factor)],\n",
    "         up_voltage[channel,(t_start*upsample_factor):(t_end*upsample_factor)]\n",
    "         )\n",
    "\n",
    "plt.plot(t[(t_start):(t_end)],\n",
    "         voltage[channel,(t_start):(t_end)])"
   ]
  },
  {
   "cell_type": "code",
   "execution_count": null,
   "metadata": {},
   "outputs": [],
   "source": [
    "voltage_raw"
   ]
  },
  {
   "cell_type": "code",
   "execution_count": 40,
   "id": "f1b9775c",
   "metadata": {},
   "outputs": [
    {
     "name": "stdout",
     "output_type": "stream",
     "text": [
      "Start sorting\n",
      "Using  1 segments per channel for sorting.\n",
      "Doing parallel ZCA transform and thresholding for 1 segments\n"
     ]
    }
   ],
   "source": [
    "print(\"Start sorting\")\n",
    "sort_data, work_items, sorter_info = spike_sort_parallel(Probe, **spike_sort_args)"
   ]
  },
  {
   "cell_type": "code",
   "execution_count": 6,
   "id": "d8d9728d",
   "metadata": {},
   "outputs": [
    {
     "name": "stdout",
     "output_type": "stream",
     "text": [
      "Saving neurons file as C:/Users/wanglab/Data/PrV/120523_1/sorted_data.pickle\n"
     ]
    }
   ],
   "source": [
    "print(\"Saving neurons file as\", save_fname)\n",
    "with open(save_fname, 'wb') as fp:\n",
    "    pickle.dump((sort_data, work_items, sorter_info), fp, protocol=-1)"
   ]
  },
  {
   "cell_type": "markdown",
   "id": "bfc0e339",
   "metadata": {},
   "source": [
    "### Post Processing"
   ]
  },
  {
   "cell_type": "code",
   "execution_count": 7,
   "id": "80c0440e",
   "metadata": {},
   "outputs": [
    {
     "name": "stdout",
     "output_type": "stream",
     "text": [
      "No overlap between segments found. Switching stitch_overlap_only to False.\n",
      "Least MUA removed was inf on channel None segment None\n",
      "Maximum SNR removed was -inf on channel None segment None\n",
      "Start stitching channel 0\n",
      "Start stitching channel 1\n",
      "Start stitching channel 2\n",
      "Start stitching channel 3\n",
      "Start stitching channel 4\n",
      "Start stitching channel 5\n",
      "Start stitching channel 6\n",
      "Start stitching channel 7\n",
      "Start stitching channel 8\n",
      "Start stitching channel 9\n",
      "Start stitching channel 10\n",
      "Start stitching channel 11\n",
      "Start stitching channel 12\n",
      "Start stitching channel 13\n",
      "Start stitching channel 14\n",
      "Start stitching channel 15\n",
      "Start stitching channel 16\n",
      "Start stitching channel 17\n",
      "Start stitching channel 18\n",
      "Start stitching channel 19\n",
      "Start stitching channel 20\n",
      "Start stitching channel 21\n",
      "Start stitching channel 22\n",
      "Start stitching channel 23\n",
      "Start stitching channel 24\n",
      "Start stitching channel 25\n",
      "Start stitching channel 26\n",
      "Start stitching channel 27\n",
      "Start stitching channel 28\n",
      "Start stitching channel 29\n",
      "Start stitching channel 30\n",
      "Start stitching channel 31\n",
      "Redundant neurons already removed at threshold >= inf Further attempts will have no effect.\n",
      "Skipping remove_redundant_neurons_by_seg.\n",
      "Saving neurons file as C:/Users/wanglab/Data/PrV/120523_1/sorted_neurons.pickle\n"
     ]
    }
   ],
   "source": [
    "# First step in automated post-processing\n",
    "# Set a few variables that can allow easy detection of units that are poor\n",
    "absolute_refractory_period = 10e-4 # Refractory period (in ms) will be used to determine potential violations in sorting accuracy\n",
    "# Max allowable ratio between refractory period violations and maximal bin of ACG. Units that violate will be deleted. Setting to >= 1. allows all units\n",
    "max_mua_ratio = 1.\n",
    "min_snr = 0 # Minimal SNR a unit must have to be included in post-processing\n",
    "min_overlapping_spikes = .75 # Percentage of spikes required with nearly identical spike times in adjacent segments for them to combine in stitching\n",
    "\n",
    "# Create the work_summary postprocessing object\n",
    "work_summary = WorkItemSummary(sort_data, \n",
    "                            work_items,\n",
    "                            sorter_info, \n",
    "                            absolute_refractory_period=absolute_refractory_period,\n",
    "                            max_mua_ratio=max_mua_ratio, \n",
    "                            min_snr=min_snr,\n",
    "                            min_overlapping_spikes=min_overlapping_spikes, \n",
    "                            verbose=False)\n",
    "\n",
    "# No segments in the demo (segment_duration > duration of synthetic data) but done as example\n",
    "work_summary.stitch_segments()\n",
    "\n",
    "# Summarize the sorted output data into dictionaries by time segment.\n",
    "work_summary.summarize_neurons_by_seg()\n",
    "\n",
    "# Finally summarize neurons across channels (combining and removing duplicate\n",
    "# neurons across space) to get a list of sorted \"neurons\"\n",
    "neurons = work_summary.summarize_neurons_across_channels(\n",
    "                    overlap_ratio_threshold=np.inf, \n",
    "                    min_segs_per_unit=1,\n",
    "                    remove_clips=False)\n",
    "\n",
    "print(\"Saving neurons file as\", neurons_fname)\n",
    "with open(neurons_fname, 'wb') as fp:\n",
    "    pickle.dump(neurons, fp, protocol=-1)\n",
    "\n"
   ]
  },
  {
   "cell_type": "code",
   "execution_count": 8,
   "id": "1405a849",
   "metadata": {},
   "outputs": [
    {
     "name": "stdout",
     "output_type": "stream",
     "text": [
      "Found 47 total units with properties:\n",
      "Unit: 0 on chans [0]; n spikes = 5096; FR = 15; Dur = 332; SNR = 5.32; MUA = 0.49; TolInds = 7\n",
      "Unit: 1 on chans [0]; n spikes = 13994; FR = 42; Dur = 334; SNR = 2.56; MUA = 0.94; TolInds = 6\n",
      "Unit: 2 on chans [1]; n spikes = 5623; FR = 17; Dur = 334; SNR = 3.17; MUA = 0.62; TolInds = 6\n",
      "Unit: 3 on chans [1]; n spikes = 7370; FR = 22; Dur = 334; SNR = 2.05; MUA = 0.74; TolInds = 7\n",
      "Unit: 4 on chans [2]; n spikes = 11813; FR = 35; Dur = 334; SNR = 5.27; MUA = 1.00; TolInds = 8\n",
      "Unit: 5 on chans [2]; n spikes = 1818; FR = 5; Dur = 333; SNR = 3.00; MUA = 0.50; TolInds = 9\n",
      "Unit: 6 on chans [3]; n spikes = 5779; FR = 17; Dur = 334; SNR = 4.74; MUA = 0.75; TolInds = 5\n",
      "Unit: 7 on chans [4]; n spikes = 5066; FR = 15; Dur = 334; SNR = 3.00; MUA = 1.00; TolInds = 5\n",
      "Unit: 8 on chans [5]; n spikes = 3452; FR = 10; Dur = 334; SNR = 2.18; MUA = 0.96; TolInds = 7\n",
      "Unit: 9 on chans [5]; n spikes = 3440; FR = 10; Dur = 334; SNR = 2.07; MUA = 1.00; TolInds = 7\n",
      "Unit: 10 on chans [6]; n spikes = 8807; FR = 26; Dur = 334; SNR = 3.48; MUA = 0.62; TolInds = 5\n",
      "Unit: 11 on chans [7]; n spikes = 5197; FR = 16; Dur = 333; SNR = 2.25; MUA = 0.90; TolInds = 7\n",
      "Unit: 12 on chans [7]; n spikes = 4519; FR = 14; Dur = 334; SNR = 2.95; MUA = 0.94; TolInds = 6\n",
      "Unit: 13 on chans [8]; n spikes = 9976; FR = 30; Dur = 334; SNR = 2.58; MUA = 1.00; TolInds = 6\n",
      "Unit: 14 on chans [8]; n spikes = 999; FR = 3; Dur = 332; SNR = 8.63; MUA = 0.02; TolInds = 4\n",
      "Unit: 15 on chans [8]; n spikes = 832; FR = 3; Dur = 333; SNR = 8.81; MUA = 0.03; TolInds = 5\n",
      "Unit: 16 on chans [9]; n spikes = 3310; FR = 10; Dur = 334; SNR = 2.39; MUA = 0.78; TolInds = 7\n",
      "Unit: 17 on chans [9]; n spikes = 3157; FR = 9; Dur = 334; SNR = 2.52; MUA = 0.75; TolInds = 7\n",
      "Unit: 18 on chans [10]; n spikes = 1616; FR = 5; Dur = 334; SNR = 1.19; MUA = 0.76; TolInds = 7\n",
      "Unit: 19 on chans [11]; n spikes = 2434; FR = 7; Dur = 333; SNR = 6.07; MUA = 0.67; TolInds = 4\n",
      "Unit: 20 on chans [12]; n spikes = 2147; FR = 6; Dur = 334; SNR = 1.47; MUA = 0.98; TolInds = 4\n",
      "Unit: 21 on chans [13]; n spikes = 4698; FR = 14; Dur = 333; SNR = 8.47; MUA = 0.65; TolInds = 5\n",
      "Unit: 22 on chans [13]; n spikes = 3988; FR = 12; Dur = 334; SNR = 2.42; MUA = 1.00; TolInds = 6\n",
      "Unit: 23 on chans [14]; n spikes = 19063; FR = 57; Dur = 334; SNR = 9.33; MUA = 0.08; TolInds = 6\n",
      "Unit: 24 on chans [15]; n spikes = 10499; FR = 31; Dur = 334; SNR = 3.04; MUA = 1.00; TolInds = 5\n",
      "Unit: 25 on chans [16]; n spikes = 13413; FR = 40; Dur = 333; SNR = 5.15; MUA = 0.33; TolInds = 6\n",
      "Unit: 26 on chans [16]; n spikes = 12299; FR = 37; Dur = 334; SNR = 5.46; MUA = 0.95; TolInds = 5\n",
      "Unit: 27 on chans [17]; n spikes = 8954; FR = 27; Dur = 333; SNR = 3.71; MUA = 0.94; TolInds = 7\n",
      "Unit: 28 on chans [18]; n spikes = 15057; FR = 45; Dur = 334; SNR = 9.53; MUA = 0.01; TolInds = 7\n",
      "Unit: 29 on chans [18]; n spikes = 4988; FR = 15; Dur = 333; SNR = 3.73; MUA = 0.58; TolInds = 7\n",
      "Unit: 30 on chans [19]; n spikes = 4260; FR = 13; Dur = 333; SNR = 2.95; MUA = 1.00; TolInds = 7\n",
      "Unit: 31 on chans [20]; n spikes = 8395; FR = 25; Dur = 334; SNR = 2.62; MUA = 0.99; TolInds = 7\n",
      "Unit: 32 on chans [21]; n spikes = 4883; FR = 15; Dur = 333; SNR = 2.39; MUA = 0.27; TolInds = 5\n",
      "Unit: 33 on chans [22]; n spikes = 3191; FR = 10; Dur = 334; SNR = 8.86; MUA = 0.05; TolInds = 5\n",
      "Unit: 34 on chans [22]; n spikes = 2317; FR = 7; Dur = 334; SNR = 1.70; MUA = 1.00; TolInds = 5\n",
      "Unit: 35 on chans [23]; n spikes = 872; FR = 3; Dur = 333; SNR = 1.75; MUA = 0.62; TolInds = 6\n",
      "Unit: 36 on chans [23]; n spikes = 1280; FR = 4; Dur = 334; SNR = 1.57; MUA = 0.65; TolInds = 7\n",
      "Unit: 37 on chans [24]; n spikes = 859; FR = 3; Dur = 333; SNR = 2.29; MUA = 0.00; TolInds = 12\n",
      "Unit: 38 on chans [24]; n spikes = 8500; FR = 26; Dur = 332; SNR = 3.69; MUA = 0.00; TolInds = 6\n",
      "Unit: 39 on chans [24]; n spikes = 1154; FR = 4; Dur = 320; SNR = 2.44; MUA = 0.00; TolInds = 12\n",
      "Unit: 40 on chans [25]; n spikes = 965; FR = 3; Dur = 328; SNR = 8.76; MUA = 0.08; TolInds = 4\n",
      "Unit: 41 on chans [25]; n spikes = 1960; FR = 6; Dur = 334; SNR = 1.42; MUA = 1.00; TolInds = 6\n",
      "Unit: 42 on chans [26]; n spikes = 4192; FR = 13; Dur = 334; SNR = 2.53; MUA = 0.95; TolInds = 7\n",
      "Unit: 43 on chans [27]; n spikes = 1374; FR = 4; Dur = 333; SNR = 3.02; MUA = 0.40; TolInds = 8\n",
      "Unit: 44 on chans [28]; n spikes = 12106; FR = 36; Dur = 334; SNR = 2.47; MUA = 0.65; TolInds = 7\n",
      "Unit: 45 on chans [29]; n spikes = 4597; FR = 14; Dur = 334; SNR = 1.42; MUA = 0.91; TolInds = 3\n",
      "Unit: 46 on chans [30]; n spikes = 12848; FR = 39; Dur = 329; SNR = 4.20; MUA = 0.67; TolInds = 14\n"
     ]
    }
   ],
   "source": [
    "print(\"Found\", len(neurons), \"total units with properties:\")\n",
    "fmtL = \"Unit: {:.0f} on chans {}; n spikes = {:.0f}; FR = {:.0f}; Dur = {:.0f}; SNR = {:.2f}; MUA = {:.2f}; TolInds = {:.0f}\"\n",
    "for ind, n in enumerate(neurons):\n",
    "    print_vals = [ind, n['channel'], n['spike_indices'].size, n['firing_rate'], n['duration_s'], n['snr']['average'], n['fraction_mua'], n['duplicate_tol_inds']]\n",
    "    print(fmtL.format(*print_vals))\n"
   ]
  },
  {
   "cell_type": "code",
   "execution_count": 9,
   "id": "d229b217",
   "metadata": {},
   "outputs": [
    {
     "name": "stdout",
     "output_type": "stream",
     "text": [
      "Loading neurons file C:/Users/wanglab/Data/PrV/120523_1/sorted_neurons.pickle\n",
      "No filename specified, using 'default_fname'\n",
      "Saved NeuroViz file: C:/Users/wanglab/Data/PrV/120523_1/sorted_neurons_viz.pkl\n"
     ]
    }
   ],
   "source": [
    "from spikesorting_fullpursuit.utils import convert_to_viz\n",
    "convert_to_viz.f_neurons_to_viz(neurons_fname,neuroviz_only=True)"
   ]
  },
  {
   "cell_type": "markdown",
   "id": "94a4325c",
   "metadata": {},
   "source": [
    "### Save voltage arranged by channel as dat file"
   ]
  },
  {
   "cell_type": "code",
   "execution_count": 10,
   "id": "e2ca393b",
   "metadata": {},
   "outputs": [],
   "source": [
    "voltage_rearrange_filename = data_dir + 'voltage_sorted.dat'\n",
    "voltage_sorted.astype('int16').tofile(voltage_rearrange_filename)"
   ]
  },
  {
   "cell_type": "code",
   "execution_count": null,
   "id": "2fe501b8",
   "metadata": {},
   "outputs": [],
   "source": []
  },
  {
   "cell_type": "markdown",
   "id": "9b843b56",
   "metadata": {},
   "source": [
    "### Load Data"
   ]
  },
  {
   "cell_type": "code",
   "execution_count": null,
   "id": "656a4b68",
   "metadata": {},
   "outputs": [],
   "source": [
    "with open(save_fname, 'rb') as fp:\n",
    "    sorted_data = pickle.load(fp)\n",
    "\n",
    "sort_data, work_items, sorter_info = sorted_data[0], sorted_data[1], sorted_data[2]"
   ]
  }
 ],
 "metadata": {
  "kernelspec": {
   "display_name": "Python 3 (ipykernel)",
   "language": "python",
   "name": "python3"
  },
  "language_info": {
   "codemirror_mode": {
    "name": "ipython",
    "version": 3
   },
   "file_extension": ".py",
   "mimetype": "text/x-python",
   "name": "python",
   "nbconvert_exporter": "python",
   "pygments_lexer": "ipython3",
   "version": "3.11.3"
  }
 },
 "nbformat": 4,
 "nbformat_minor": 5
}
